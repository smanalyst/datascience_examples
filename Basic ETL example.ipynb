{
 "cells": [
  {
   "cell_type": "code",
   "execution_count": 1,
   "metadata": {},
   "outputs": [],
   "source": [
    "from pyspark.sql import SparkSession"
   ]
  },
  {
   "cell_type": "code",
   "execution_count": 2,
   "metadata": {},
   "outputs": [],
   "source": [
    "spark = SparkSession \\\n",
    "    .builder \\\n",
    "    .appName(\"Basic ETL\") \\\n",
    "    .getOrCreate()"
   ]
  },
  {
   "cell_type": "code",
   "execution_count": 3,
   "metadata": {},
   "outputs": [],
   "source": [
    "df = spark.read.json(\"yelp_academic_dataset_business.json\")"
   ]
  },
  {
   "cell_type": "code",
   "execution_count": 4,
   "metadata": {},
   "outputs": [],
   "source": [
    "# Columns of interest: business id, name, address, hours, city, state, number of reviews, stars"
   ]
  },
  {
   "cell_type": "code",
   "execution_count": 5,
   "metadata": {},
   "outputs": [],
   "source": [
    "interested = df.select([\"business_id\", \"name\", \"full_address\", \"hours\", \"city\", \"state\", \"review_count\", \"stars\"])"
   ]
  },
  {
   "cell_type": "code",
   "execution_count": 6,
   "metadata": {},
   "outputs": [],
   "source": [
    "from pyspark.sql import functions as F"
   ]
  },
  {
   "cell_type": "code",
   "execution_count": 7,
   "metadata": {},
   "outputs": [],
   "source": [
    "cities = interested.select(\"city\", \"review_count\", \"stars\").sort(\"review_count\", ascending=False)"
   ]
  },
  {
   "cell_type": "code",
   "execution_count": 8,
   "metadata": {},
   "outputs": [
    {
     "name": "stdout",
     "output_type": "stream",
     "text": [
      "+---------+------------+-----+\n",
      "|     city|review_count|stars|\n",
      "+---------+------------+-----+\n",
      "|Las Vegas|        4578|  4.0|\n",
      "|Las Vegas|        3984|  4.5|\n",
      "|Las Vegas|        3828|  3.5|\n",
      "|Las Vegas|        3046|  4.0|\n",
      "|Las Vegas|        3007|  3.0|\n",
      "+---------+------------+-----+\n",
      "only showing top 5 rows\n",
      "\n"
     ]
    }
   ],
   "source": [
    "cities.show(5)\n"
   ]
  },
  {
   "cell_type": "code",
   "execution_count": 9,
   "metadata": {},
   "outputs": [],
   "source": [
    "cities = cities.withColumn('pre_norm', cities['review_count'] * cities['stars'])"
   ]
  },
  {
   "cell_type": "code",
   "execution_count": 10,
   "metadata": {},
   "outputs": [],
   "source": [
    "cities = cities.groupby('city').sum()"
   ]
  },
  {
   "cell_type": "code",
   "execution_count": 11,
   "metadata": {},
   "outputs": [
    {
     "name": "stdout",
     "output_type": "stream",
     "text": [
      "+--------------+-----------------+----------+-------------+\n",
      "|          city|sum(review_count)|sum(stars)|sum(pre_norm)|\n",
      "+--------------+-----------------+----------+-------------+\n",
      "|         Ratho|               13|       3.5|         45.5|\n",
      "|         Tempe|            69678|    8247.5|     260148.0|\n",
      "|    Harrisburg|              254|      74.0|        966.5|\n",
      "|Île des Soeurs|               21|       4.0|         84.0|\n",
      "|  Fountain Hls|                7|       3.5|         24.5|\n",
      "+--------------+-----------------+----------+-------------+\n",
      "only showing top 5 rows\n",
      "\n"
     ]
    }
   ],
   "source": [
    "cities.show(5)"
   ]
  },
  {
   "cell_type": "code",
   "execution_count": 12,
   "metadata": {},
   "outputs": [],
   "source": [
    "#normalize data\n",
    "cities = cities.withColumn('agg_rating', cities['sum(pre_norm)'] / cities['sum(review_count)'])"
   ]
  },
  {
   "cell_type": "code",
   "execution_count": 13,
   "metadata": {},
   "outputs": [
    {
     "name": "stdout",
     "output_type": "stream",
     "text": [
      "+---------------+-----------------+----------+-------------+------------------+\n",
      "|           city|sum(review_count)|sum(stars)|sum(pre_norm)|        agg_rating|\n",
      "+---------------+-----------------+----------+-------------+------------------+\n",
      "|          Ratho|               13|       3.5|         45.5|               3.5|\n",
      "|          Tempe|            69678|    8247.5|     260148.0|3.7335744424352018|\n",
      "|     Harrisburg|              254|      74.0|        966.5|3.8051181102362204|\n",
      "| Île des Soeurs|               21|       4.0|         84.0|               4.0|\n",
      "|   Fountain Hls|                7|       3.5|         24.5|               3.5|\n",
      "|North Las Vegas|            10808|    2116.5|      38489.5|3.5612046632124352|\n",
      "|  Lawrenceville|               97|       7.5|        368.0|3.7938144329896906|\n",
      "|          Mesa |               27|       3.0|         81.0|               3.0|\n",
      "|    C Las Vegas|               17|       3.0|         51.0|               3.0|\n",
      "|    Wilkinsburg|               23|      13.0|         66.0| 2.869565217391304|\n",
      "+---------------+-----------------+----------+-------------+------------------+\n",
      "only showing top 10 rows\n",
      "\n"
     ]
    }
   ],
   "source": [
    "cities.show(10)"
   ]
  },
  {
   "cell_type": "code",
   "execution_count": 14,
   "metadata": {},
   "outputs": [],
   "source": [
    "# depending on where this data was going / how it needs to be pulled, \n",
    "# this is where I'd write to either a .csv file / some sort of DB\n",
    "#\n",
    "#\n",
    "#"
   ]
  },
  {
   "cell_type": "code",
   "execution_count": 15,
   "metadata": {},
   "outputs": [],
   "source": [
    "# analyst wants : map of dog-friendly places (because who doesn't...?)\n",
    "#\n",
    "#    \n",
    "#"
   ]
  },
  {
   "cell_type": "code",
   "execution_count": 16,
   "metadata": {},
   "outputs": [],
   "source": [
    "dogs_allowed = df.select([\"business_id\", \"name\", \"latitude\", \"longitude\", 'attributes.Dogs Allowed']).filter(df['attributes.Dogs Allowed'] == True)\n"
   ]
  },
  {
   "cell_type": "code",
   "execution_count": 17,
   "metadata": {},
   "outputs": [],
   "source": [
    "coords = dogs_allowed.select('latitude', 'longitude').toPandas()"
   ]
  },
  {
   "cell_type": "code",
   "execution_count": 18,
   "metadata": {},
   "outputs": [],
   "source": [
    "from ipyleaflet import Map, Marker"
   ]
  },
  {
   "cell_type": "code",
   "execution_count": 19,
   "metadata": {},
   "outputs": [],
   "source": [
    "longitudes = coords['longitude'].values.tolist()\n",
    "latitudes = coords['latitude'].values.tolist()"
   ]
  },
  {
   "cell_type": "code",
   "execution_count": 20,
   "metadata": {},
   "outputs": [],
   "source": [
    "m = Map(center=(latitudes[0], longitudes[0]), zoom=10)"
   ]
  },
  {
   "cell_type": "code",
   "execution_count": 21,
   "metadata": {},
   "outputs": [],
   "source": [
    "markers = []"
   ]
  },
  {
   "cell_type": "code",
   "execution_count": 23,
   "metadata": {},
   "outputs": [],
   "source": [
    "for lat, lon in zip(latitudes, longitudes):\n",
    "    point = (lat, lon)\n",
    "    markers.append(point)"
   ]
  },
  {
   "cell_type": "code",
   "execution_count": 24,
   "metadata": {},
   "outputs": [],
   "source": [
    "for x in markers:\n",
    "    m.add_layer(Marker(location=x))"
   ]
  },
  {
   "cell_type": "code",
   "execution_count": 25,
   "metadata": {},
   "outputs": [
    {
     "data": {
      "application/vnd.jupyter.widget-view+json": {
       "model_id": "466351ddddc14be6ad99125cef5c6101",
       "version_major": 2,
       "version_minor": 0
      },
      "text/plain": [
       "Map(basemap={'url': 'https://{s}.tile.openstreetmap.org/{z}/{x}/{y}.png', 'max_zoom': 19, 'attribution': 'Map …"
      ]
     },
     "metadata": {},
     "output_type": "display_data"
    }
   ],
   "source": [
    "display(m)"
   ]
  },
  {
   "cell_type": "code",
   "execution_count": null,
   "metadata": {},
   "outputs": [],
   "source": []
  }
 ],
 "metadata": {
  "kernelspec": {
   "display_name": "Python 3",
   "language": "python",
   "name": "python3"
  },
  "language_info": {
   "codemirror_mode": {
    "name": "ipython",
    "version": 3
   },
   "file_extension": ".py",
   "mimetype": "text/x-python",
   "name": "python",
   "nbconvert_exporter": "python",
   "pygments_lexer": "ipython3",
   "version": "3.7.5"
  }
 },
 "nbformat": 4,
 "nbformat_minor": 2
}
